{
 "cells": [
  {
   "cell_type": "markdown",
   "metadata": {},
   "source": [
    "# Analyse des Vulnérabilités - Visualisations et Interprétations\n",
    "### Ce notebook présente une série de visualisations basées sur les données des vulnérabilités recensées. \n",
    "\n",
    "Les graphiques permettront de mieux comprendre la distribution des vulnérabilités, leurs gravités, et les produits les plus impactés.\n",
    "\n",
    "## Import des bibliothèques nécessaires"
   ]
  },
  {
   "cell_type": "code",
   "execution_count": null,
   "metadata": {},
   "outputs": [
    {
     "ename": "",
     "evalue": "",
     "output_type": "error",
     "traceback": [
      "\u001b[1;31mLes cellules en cours d’exécution avec Python 3.12.3 nécessitent le package ipykernel.\n",
      "\u001b[1;31mExécutez la commande suivante pour installer 'ipykernel' dans l’environnement Python. \n",
      "\u001b[1;31mCommande : '/opt/homebrew/bin/python3 -m pip install ipykernel -U --user --force-reinstall'"
     ]
    }
   ],
   "source": [
    "import pandas as pd\n",
    "import matplotlib.pyplot as plt\n",
    "import seaborn as sns"
   ]
  },
  {
   "cell_type": "markdown",
   "metadata": {},
   "source": [
    "## Chargement des données\n",
    "Note : Remplacez `data` par vos données réelles."
   ]
  },
  {
   "cell_type": "code",
   "execution_count": null,
   "metadata": {},
   "outputs": [],
   "source": [
    "data = {\n",
    "    # Ajoutez ici vos données ou chargez-les à partir d'une source externe.\n",
    "}\n",
    "df = pd.DataFrame(data)"
   ]
  },
  {
   "cell_type": "markdown",
   "metadata": {},
   "source": [
    "\n",
    "## Configuration générale pour les graphiques"
   ]
  },
  {
   "cell_type": "code",
   "execution_count": null,
   "metadata": {},
   "outputs": [],
   "source": [
    "sns.set(style=\"whitegrid\")\n",
    "plt.rcParams[\"figure.figsize\"] = (10, 6)"
   ]
  },
  {
   "cell_type": "markdown",
   "metadata": {},
   "source": [
    "---\n",
    "## Visualisations\n",
    "\n",
    "### 1. Histogramme des scores CVSS"
   ]
  },
  {
   "cell_type": "code",
   "execution_count": null,
   "metadata": {},
   "outputs": [],
   "source": [
    "plt.figure()\n",
    "sns.histplot(df['CVSS Base'], bins=10, kde=True, color='blue')\n",
    "plt.title(\"Distribution des scores CVSS\", fontsize=16)\n",
    "plt.xlabel(\"Score CVSS\", fontsize=12)\n",
    "plt.ylabel(\"Nombre de vulnérabilités\", fontsize=12)\n",
    "plt.show()"
   ]
  },
  {
   "cell_type": "markdown",
   "metadata": {},
   "source": [
    "### 2. Diagramme circulaire des types de vulnérabilités (CWE)"
   ]
  },
  {
   "cell_type": "code",
   "execution_count": null,
   "metadata": {},
   "outputs": [],
   "source": [
    "plt.figure()\n",
    "cwe_counts = df['CWE'].value_counts()\n",
    "cwe_counts.plot(kind='pie', autopct='%1.1f%%', startangle=140, colormap='viridis')\n",
    "plt.title(\"Répartition des types de vulnérabilités (CWE)\", fontsize=16)\n",
    "plt.ylabel(\"\")\n",
    "plt.show()"
   ]
  },
  {
   "cell_type": "markdown",
   "metadata": {},
   "source": [
    "### 3. Courbe des scores EPSS"
   ]
  },
  {
   "cell_type": "code",
   "execution_count": null,
   "metadata": {},
   "outputs": [],
   "source": [
    "plt.figure()\n",
    "sns.lineplot(x=range(len(df)), y='EPSS', data=df, marker='o', color='orange')\n",
    "plt.title(\"Courbe des scores EPSS\", fontsize=16)\n",
    "plt.xlabel(\"Index des vulnérabilités\", fontsize=12)\n",
    "plt.ylabel(\"Score EPSS\", fontsize=12)\n",
    "plt.show()"
   ]
  },
  {
   "cell_type": "markdown",
   "metadata": {},
   "source": [
    "### 4. Classement des produits les plus affectés"
   ]
  },
  {
   "cell_type": "code",
   "execution_count": null,
   "metadata": {},
   "outputs": [],
   "source": [
    "plt.figure()\n",
    "product_counts = df['Produit'].value_counts().head(10)\n",
    "sns.barplot(x=product_counts, y=product_counts.index, palette=\"Blues_d\")\n",
    "plt.title(\"Produits les plus affectés\", fontsize=16)\n",
    "plt.xlabel(\"Nombre de vulnérabilités\", fontsize=12)\n",
    "plt.ylabel(\"Produit\", fontsize=12)\n",
    "plt.show()"
   ]
  },
  {
   "cell_type": "markdown",
   "metadata": {},
   "source": [
    "### 5. Heatmap des corrélations entre CVSS et EPSS"
   ]
  },
  {
   "cell_type": "code",
   "execution_count": null,
   "metadata": {},
   "outputs": [],
   "source": [
    "plt.figure()\n",
    "corr_matrix = df[['CVSS Base', 'EPSS']].corr()\n",
    "sns.heatmap(corr_matrix, annot=True, cmap='coolwarm', cbar=True)\n",
    "plt.title(\"Corrélation entre CVSS et EPSS\", fontsize=16)\n",
    "plt.show()"
   ]
  },
  {
   "cell_type": "markdown",
   "metadata": {},
   "source": [
    "### 6. Nuage de points entre CVSS et EPSS"
   ]
  },
  {
   "cell_type": "code",
   "execution_count": null,
   "metadata": {},
   "outputs": [],
   "source": [
    "plt.figure()\n",
    "sns.scatterplot(x='CVSS Base', y='EPSS', data=df, hue='Severity', palette='coolwarm', s=100)\n",
    "plt.title(\"Relation entre CVSS et EPSS\", fontsize=16)\n",
    "plt.xlabel(\"Score CVSS\", fontsize=12)\n",
    "plt.ylabel(\"Score EPSS\", fontsize=12)\n",
    "plt.legend(title=\"Gravité\")\n",
    "plt.show()"
   ]
  },
  {
   "cell_type": "markdown",
   "metadata": {},
   "source": [
    "### 7. Boxplot des scores CVSS par éditeur"
   ]
  },
  {
   "cell_type": "code",
   "execution_count": null,
   "metadata": {},
   "outputs": [],
   "source": [
    "plt.figure()\n",
    "sns.boxplot(x='Éditeur', y='CVSS Base', data=df, palette='Set3')\n",
    "plt.title(\"Distribution des scores CVSS par éditeur\", fontsize=16)\n",
    "plt.xlabel(\"Éditeur\", fontsize=12)\n",
    "plt.ylabel(\"Score CVSS\", fontsize=12)\n",
    "plt.xticks(rotation=45)\n",
    "plt.show()"
   ]
  },
  {
   "cell_type": "markdown",
   "metadata": {},
   "source": [
    "### 8. Évolution temporelle du nombre de vulnérabilités détectées"
   ]
  },
  {
   "cell_type": "code",
   "execution_count": null,
   "metadata": {},
   "outputs": [],
   "source": [
    "df['Date'] = pd.to_datetime(df['Date'])  # Conversion en format datetime\n",
    "vuln_per_date = df.groupby('Date').size()\n",
    "plt.figure()\n",
    "sns.lineplot(x=vuln_per_date.index, y=vuln_per_date.values, marker='o', color='green')\n",
    "plt.title(\"Évolution temporelle des vulnérabilités détectées\", fontsize=16)\n",
    "plt.xlabel(\"Date\", fontsize=12)\n",
    "plt.ylabel(\"Nombre de vulnérabilités\", fontsize=12)\n",
    "plt.show()"
   ]
  }
 ],
 "metadata": {
  "kernelspec": {
   "display_name": "Python 3",
   "language": "python",
   "name": "python3"
  },
  "language_info": {
   "name": "python",
   "version": "3.12.3"
  }
 },
 "nbformat": 4,
 "nbformat_minor": 2
}
